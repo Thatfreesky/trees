{
 "cells": [
  {
   "cell_type": "code",
   "execution_count": 1,
   "metadata": {
    "collapsed": false
   },
   "outputs": [
    {
     "name": "stdout",
     "output_type": "stream",
     "text": [
      "Populating the interactive namespace from numpy and matplotlib\n"
     ]
    }
   ],
   "source": [
    "%pylab inline"
   ]
  },
  {
   "cell_type": "code",
   "execution_count": 2,
   "metadata": {
    "collapsed": false
   },
   "outputs": [],
   "source": [
    "import logging\n",
    "logger = logging.getLogger()\n",
    "logger.setLevel(logging.ERROR)\n",
    "import numpy as np\n",
    "import trees\n",
    "from trees.ddt import *\n",
    "import mpld3\n",
    "import seaborn as sns\n",
    "sns.set_style('white')\n",
    "from tqdm import tqdm\n",
    "from sklearn.decomposition import PCA\n",
    "import networkx as nx"
   ]
  },
  {
   "cell_type": "code",
   "execution_count": 3,
   "metadata": {
    "collapsed": false
   },
   "outputs": [
    {
     "data": {
      "image/png": "[encoded data removed]",
      "text/plain": [
       "<matplotlib.figure.Figure at 0x7fba25a13c90>"
      ]
     },
     "metadata": {},
     "output_type": "display_data"
    }
   ],
   "source": [
    "X, y = trees.data.load('zoo')\n",
    "pca = PCA(n_components=2)\n",
    "X = pca.fit_transform(X)\n",
    "X += np.random.normal(scale=.15, size=X.shape)\n",
    "max = 200\n",
    "X = X[:max]\n",
    "y = y[:max]\n",
    "N, D = X.shape\n",
    "scatter(*X.T);\n",
    "interactor = trees.interact.Interactor(X, y, trees.interact.Database('../zoo.db'))\n",
    "constraints = []\n",
    "for (a, b, c) in interactor.interactions:\n",
    "    if a >= max or b >= max or c >= max:\n",
    "        continue\n",
    "    constraints.append((a, b, c))"
   ]
  },
  {
   "cell_type": "code",
   "execution_count": 4,
   "metadata": {
    "collapsed": false,
    "scrolled": true
   },
   "outputs": [
    {
     "name": "stdout",
     "output_type": "stream",
     "text": [
      "set([])\n",
      "set([])\n",
      "set([])\n",
      "set([])\n",
      "set([])\n",
      "set([])\n",
      "set([])\n",
      "set([])\n",
      "set([])\n",
      "set([])\n",
      "set([])\n",
      "set([])\n",
      "set([])\n",
      "set([])\n",
      "set([])\n",
      "set([])\n",
      "set([])\n",
      "set([])\n",
      "set([])\n",
      "set([])\n",
      "set([])\n",
      "set([])\n",
      "set([])\n",
      "set([])\n",
      "set([])\n",
      "set([])\n",
      "set([])\n",
      "set([])\n",
      "set([])\n",
      "set([])\n",
      "set([])\n",
      "set([])\n",
      "set([])\n",
      "set([])\n",
      "set([])\n",
      "set([])\n",
      "set([])\n",
      "set([])\n",
      "set([])\n",
      "set([])\n",
      "set([])\n",
      "set([])\n",
      "set([])\n",
      "set([])\n",
      "set([])\n",
      "set([])\n",
      "set([])\n",
      "set([])\n",
      "set([])\n",
      "set([])\n",
      "set([])\n",
      "set([])\n",
      "set([])\n",
      "set([])\n",
      "set([])\n",
      "set([])\n",
      "set([])\n",
      "set([])\n",
      "set([])\n",
      "set([])\n",
      "set([])\n",
      "set([])\n",
      "set([])\n",
      "set([])\n",
      "set([])\n",
      "set([])\n",
      "set([])\n",
      "set([])\n",
      "set([])\n",
      "set([])\n",
      "set([])\n",
      "set([])\n",
      "set([])\n",
      "set([])\n",
      "set([])\n",
      "set([])\n",
      "set([])\n",
      "set([])\n",
      "set([])\n",
      "set([])\n",
      "set([])\n",
      "set([])\n",
      "set([])\n",
      "set([])\n",
      "set([])\n",
      "set([])\n",
      "set([])\n",
      "set([])\n",
      "set([])\n",
      "set([])\n",
      "set([])\n",
      "set([])\n",
      "set([])\n",
      "set([])\n",
      "set([])\n",
      "set([])\n",
      "set([])\n",
      "set([])\n",
      "set([])\n",
      "set([])\n",
      "set([])\n",
      "set([])\n",
      "set([])\n",
      "set([])\n",
      "set([])\n",
      "set([])\n",
      "set([])\n",
      "set([])\n",
      "set([])\n",
      "set([])\n",
      "set([])\n",
      "set([])\n",
      "set([])\n",
      "set([])\n",
      "set([])\n",
      "set([])\n",
      "set([])\n",
      "set([])\n",
      "set([])\n",
      "set([])\n",
      "set([])\n",
      "set([])\n",
      "set([])\n",
      "set([])\n",
      "set([])\n",
      "set([])\n",
      "set([])\n",
      "set([])\n",
      "set([])\n",
      "set([])\n",
      "set([])\n",
      "set([])\n",
      "set([])\n",
      "set([])\n",
      "set([])\n",
      "set([])\n",
      "set([])\n",
      "set([])\n",
      "set([])\n",
      "set([])\n",
      "set([])\n",
      "set([])\n",
      "set([])\n",
      "set([])\n",
      "set([])\n",
      "set([])\n",
      "set([])\n",
      "set([])\n",
      "set([])\n",
      "set([])\n",
      "set([])\n",
      "set([])\n",
      "set([])\n",
      "set([])\n",
      "set([])\n",
      "set([])\n",
      "set([])\n",
      "set([])\n",
      "set([])\n",
      "set([])\n",
      "set([])\n"
     ]
    },
    {
     "name": "stderr",
     "output_type": "stream",
     "text": [
      "\n",
      "KeyboardInterrupt\n"
     ]
    }
   ],
   "source": [
    "df = Inverse(c=1)\n",
    "lm = GaussianLikelihoodModel(sigma=np.cov(X.T) / 4.0, sigma0=np.eye(D) / 2.0, mu0=X.mean(axis=0)).compile()\n",
    "ddt = InteractiveDirichletDiffusionTree(df, lm, constraints=[])#interactor.interactions[:10])\n",
    "sampler = MetropolisHastingsSampler(ddt, X)\n",
    "sampler.initialize_assignments()\n",
    "for constraint in constraints:\n",
    "    ddt.add_constraint(constraint, X)"
   ]
  },
  {
   "cell_type": "code",
   "execution_count": 5,
   "metadata": {
    "collapsed": false
   },
   "outputs": [
    {
     "data": {
      "text/plain": [
       "False"
      ]
     },
     "execution_count": 5,
     "metadata": {},
     "output_type": "execute_result"
    }
   ],
   "source": [
    "ddt.verify_constraints(interactor.interactions)"
   ]
  },
  {
   "cell_type": "code",
   "execution_count": 6,
   "metadata": {
    "collapsed": false
   },
   "outputs": [
    {
     "name": "stdout",
     "output_type": "stream",
     "text": [
      "[(44, 98, 65), (55, 98, 65), (16, 56, 0), (26, 91, 81), (10, 67, 37), (34, 92, 71), (29, 93, 16), (54, 84, 21), (48, 55, 63), (44, 68, 58), (23, 43, 36), (50, 64, 31), (85, 92, 95), (2, 61, 62), (33, 79, 22), (32, 63, 83), (30, 42, 82), (31, 65, 84), (21, 58, 29), (1, 44, 54), (11, 95, 10)]\n"
     ]
    }
   ],
   "source": [
    "failed = []\n",
    "for constraint in interactor.interactions:\n",
    "    if ddt.verify_constraint(constraint):\n",
    "        continue\n",
    "    failed.append(constraint)\n",
    "print failed"
   ]
  },
  {
   "cell_type": "code",
   "execution_count": 7,
   "metadata": {
    "collapsed": false
   },
   "outputs": [
    {
     "ename": "SyntaxError",
     "evalue": "invalid syntax (<ipython-input-7-3ca917517366>, line 2)",
     "output_type": "error",
     "traceback": [
      "\u001b[1;36m  File \u001b[1;32m\"<ipython-input-7-3ca917517366>\"\u001b[1;36m, line \u001b[1;32m2\u001b[0m\n\u001b[1;33m    (1, 0, 1, 1, 1, 0, 1, 1, 1, 1, 1, 1, 1, 1, 1, 1,\u001b[0m\n\u001b[1;37m                                                    ^\u001b[0m\n\u001b[1;31mSyntaxError\u001b[0m\u001b[1;31m:\u001b[0m invalid syntax\n"
     ]
    }
   ],
   "source": [
    "[ddt.point_index(i)[1][0] for i in (23, 33, 0)]\n",
    "(1, 0, 1, 1, 1, 0, 1, 1, 1, 1, 1, 1, 1, 1, 1, 1,"
   ]
  },
  {
   "cell_type": "code",
   "execution_count": null,
   "metadata": {
    "collapsed": false
   },
   "outputs": [],
   "source": [
    "ddt.root.point_count()"
   ]
  }
 ],
 "metadata": {
  "kernelspec": {
   "display_name": "Python 2",
   "language": "python",
   "name": "python2"
  },
  "language_info": {
   "codemirror_mode": {
    "name": "ipython",
    "version": 2
   },
   "file_extension": ".py",
   "mimetype": "text/x-python",
   "name": "python",
   "nbconvert_exporter": "python",
   "pygments_lexer": "ipython2",
   "version": "2.7.6"
  }
 },
 "nbformat": 4,
 "nbformat_minor": 0
}
